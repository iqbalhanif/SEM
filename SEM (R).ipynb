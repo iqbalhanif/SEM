{
 "cells": [
  {
   "cell_type": "markdown",
   "metadata": {},
   "source": [
    "# SEM"
   ]
  },
  {
   "cell_type": "markdown",
   "metadata": {},
   "source": [
    "### Read Data"
   ]
  },
  {
   "cell_type": "code",
   "execution_count": 1,
   "metadata": {},
   "outputs": [],
   "source": [
    "data=read.csv(\"D:/DATA/Desktop/Marketing.csv\", sep=\";\")"
   ]
  },
  {
   "cell_type": "markdown",
   "metadata": {},
   "source": [
    "### Load Library"
   ]
  },
  {
   "cell_type": "code",
   "execution_count": 2,
   "metadata": {},
   "outputs": [
    {
     "name": "stderr",
     "output_type": "stream",
     "text": [
      "Warning message:\n",
      "\"package 'lavaan' was built under R version 3.4.4\"This is lavaan 0.6-3\n",
      "lavaan is BETA software! Please report any bugs.\n",
      "Warning message:\n",
      "\"package 'semPlot' was built under R version 3.4.4\"Warning message:\n",
      "\"package 'MVN' was built under R version 3.4.4\"sROC 0.1-2 loaded\n",
      "Warning message:\n",
      "\"package 'semTools' was built under R version 3.4.4\" \n",
      "###############################################################################\n",
      "This is semTools 0.5-1\n",
      "All users of R (or SEM) are invited to submit functions or ideas for functions.\n",
      "###############################################################################\n"
     ]
    }
   ],
   "source": [
    "library(lavaan)\n",
    "library(semPlot)\n",
    "library(MVN)\n",
    "library(semTools)"
   ]
  },
  {
   "cell_type": "markdown",
   "metadata": {},
   "source": [
    "### SEM Modelling"
   ]
  },
  {
   "cell_type": "code",
   "execution_count": 17,
   "metadata": {},
   "outputs": [],
   "source": [
    "model <- '\n",
    "# measurement model\n",
    "LK =~ Y1 + Y2 + Y3\n",
    "KL =~ X1 + X2 + X3\n",
    "CM =~ X4 + X5 + X6 + X7\n",
    "# Structural model\n",
    "LK ~ KL + CM\n",
    "'\n",
    "fit <- sem(model, data=data)"
   ]
  },
  {
   "cell_type": "code",
   "execution_count": 18,
   "metadata": {},
   "outputs": [
    {
     "name": "stdout",
     "output_type": "stream",
     "text": [
      "lavaan 0.6-3 ended normally after 34 iterations\n",
      "\n",
      "  Optimization method                           NLMINB\n",
      "  Number of free parameters                         23\n",
      "\n",
      "  Number of observations                           100\n",
      "\n",
      "  Estimator                                         ML\n",
      "  Model Fit Test Statistic                      34.591\n",
      "  Degrees of freedom                                32\n",
      "  P-value (Chi-square)                           0.345\n",
      "\n",
      "Parameter Estimates:\n",
      "\n",
      "  Information                                 Expected\n",
      "  Information saturated (h1) model          Structured\n",
      "  Standard Errors                             Standard\n",
      "\n",
      "Latent Variables:\n",
      "                   Estimate  Std.Err  z-value  P(>|z|)\n",
      "  LK =~                                               \n",
      "    Y1                1.000                           \n",
      "    Y2                1.080    0.194    5.566    0.000\n",
      "    Y3                1.352    0.244    5.537    0.000\n",
      "  KL =~                                               \n",
      "    X1                1.000                           \n",
      "    X2                0.980    0.256    3.821    0.000\n",
      "    X3                1.095    0.297    3.686    0.000\n",
      "  CM =~                                               \n",
      "    X4                1.000                           \n",
      "    X5                0.892    0.269    3.320    0.001\n",
      "    X6                0.872    0.251    3.480    0.001\n",
      "    X7                0.976    0.268    3.636    0.000\n",
      "\n",
      "Regressions:\n",
      "                   Estimate  Std.Err  z-value  P(>|z|)\n",
      "  LK ~                                                \n",
      "    KL                0.179    0.173    1.035    0.301\n",
      "    CM                0.217    0.188    1.154    0.248\n",
      "\n",
      "Covariances:\n",
      "                   Estimate  Std.Err  z-value  P(>|z|)\n",
      "  KL ~~                                               \n",
      "    CM                0.224    0.087    2.568    0.010\n",
      "\n",
      "Variances:\n",
      "                   Estimate  Std.Err  z-value  P(>|z|)\n",
      "   .Y1                0.549    0.098    5.626    0.000\n",
      "   .Y2                0.465    0.094    4.926    0.000\n",
      "   .Y3                0.302    0.113    2.673    0.008\n",
      "   .X1                0.786    0.156    5.029    0.000\n",
      "   .X2                0.516    0.125    4.125    0.000\n",
      "   .X3                1.164    0.214    5.444    0.000\n",
      "   .X4                0.895    0.161    5.546    0.000\n",
      "   .X5                0.916    0.155    5.893    0.000\n",
      "   .X6                0.688    0.124    5.564    0.000\n",
      "   .X7                0.618    0.124    4.963    0.000\n",
      "   .LK                0.357    0.112    3.187    0.001\n",
      "    KL                0.452    0.174    2.594    0.009\n",
      "    CM                0.394    0.165    2.390    0.017\n",
      "\n"
     ]
    }
   ],
   "source": [
    "summary(fit)"
   ]
  },
  {
   "cell_type": "markdown",
   "metadata": {},
   "source": [
    "### Path Diagram"
   ]
  },
  {
   "cell_type": "code",
   "execution_count": 19,
   "metadata": {},
   "outputs": [
    {
     "data": {
      "image/png": "[encoded data removed]",
      "text/plain": [
       "plot without title"
      ]
     },
     "metadata": {},
     "output_type": "display_data"
    }
   ],
   "source": [
    "semPaths(fit,whatLabels=\"std\", style=\"lisrel\", layout=\"tree2\", exoCov = FALSE, \n",
    "         sizeMan=5,sizeLat=5, sizeMan2=5, sizeLat2=5,edge.label.cex=0.8, \n",
    "         groups = \"latents\", pastel=T)\n"
   ]
  },
  {
   "cell_type": "markdown",
   "metadata": {},
   "source": [
    "### Standardized Solution"
   ]
  },
  {
   "cell_type": "code",
   "execution_count": 20,
   "metadata": {},
   "outputs": [
    {
     "data": {
      "text/html": [
       "<table>\n",
       "<thead><tr><th scope=col>lhs</th><th scope=col>op</th><th scope=col>rhs</th><th scope=col>est.std</th><th scope=col>se</th><th scope=col>z</th><th scope=col>pvalue</th><th scope=col>ci.lower</th><th scope=col>ci.upper</th></tr></thead>\n",
       "<tbody>\n",
       "\t<tr><td>LK          </td><td>=~          </td><td>Y1          </td><td>0.6529005   </td><td>0.07435747  </td><td> 8.780563   </td><td>0.000000e+00</td><td> 0.50716254 </td><td>0.7986385   </td></tr>\n",
       "\t<tr><td>LK          </td><td>=~          </td><td>Y2          </td><td>0.7108509   </td><td>0.07081381  </td><td>10.038309   </td><td>0.000000e+00</td><td> 0.57205838 </td><td>0.8496434   </td></tr>\n",
       "\t<tr><td>LK          </td><td>=~          </td><td>Y3          </td><td>0.8435761   </td><td>0.06584802  </td><td>12.810957   </td><td>0.000000e+00</td><td> 0.71451639 </td><td>0.9726359   </td></tr>\n",
       "\t<tr><td>KL          </td><td>=~          </td><td>X1          </td><td>0.6042824   </td><td>0.09706171  </td><td> 6.225755   </td><td>4.792429e-10</td><td> 0.41404496 </td><td>0.7945199   </td></tr>\n",
       "\t<tr><td>KL          </td><td>=~          </td><td>X2          </td><td>0.6760598   </td><td>0.09591123  </td><td> 7.048807   </td><td>1.804557e-12</td><td> 0.48807720 </td><td>0.8640423   </td></tr>\n",
       "\t<tr><td>KL          </td><td>=~          </td><td>X3          </td><td>0.5637101   </td><td>0.09841408  </td><td> 5.727942   </td><td>1.016564e-08</td><td> 0.37082209 </td><td>0.7565982   </td></tr>\n",
       "\t<tr><td>CM          </td><td>=~          </td><td>X4          </td><td>0.5531682   </td><td>0.09870200  </td><td> 5.604427   </td><td>2.089450e-08</td><td> 0.35971580 </td><td>0.7466205   </td></tr>\n",
       "\t<tr><td>CM          </td><td>=~          </td><td>X5          </td><td>0.5052284   </td><td>0.10160636  </td><td> 4.972409   </td><td>6.612611e-07</td><td> 0.30608355 </td><td>0.7043732   </td></tr>\n",
       "\t<tr><td>CM          </td><td>=~          </td><td>X6          </td><td>0.5509198   </td><td>0.09883052  </td><td> 5.574389   </td><td>2.483998e-08</td><td> 0.35721553 </td><td>0.7446240   </td></tr>\n",
       "\t<tr><td>CM          </td><td>=~          </td><td>X7          </td><td>0.6148457   </td><td>0.09559296  </td><td> 6.431915   </td><td>1.260065e-10</td><td> 0.42748699 </td><td>0.8022045   </td></tr>\n",
       "\t<tr><td>LK          </td><td>~           </td><td>KL          </td><td>0.1886262   </td><td>0.17568119  </td><td> 1.073685   </td><td>2.829641e-01</td><td>-0.15570263 </td><td>0.5329550   </td></tr>\n",
       "\t<tr><td>LK          </td><td>~           </td><td>CM          </td><td>0.2136799   </td><td>0.17584053  </td><td> 1.215191   </td><td>2.242932e-01</td><td>-0.13096123 </td><td>0.5583210   </td></tr>\n",
       "\t<tr><td>Y1          </td><td>~~          </td><td>Y1          </td><td>0.5737209   </td><td>0.09709607  </td><td> 5.908797   </td><td>3.446155e-09</td><td> 0.38341613 </td><td>0.7640257   </td></tr>\n",
       "\t<tr><td>Y2          </td><td>~~          </td><td>Y2          </td><td>0.4946910   </td><td>0.10067612  </td><td> 4.913687   </td><td>8.937921e-07</td><td> 0.29736942 </td><td>0.6920126   </td></tr>\n",
       "\t<tr><td>Y3          </td><td>~~          </td><td>Y3          </td><td>0.2883793   </td><td>0.11109563  </td><td> 2.595775   </td><td>9.437773e-03</td><td> 0.07063587 </td><td>0.5061227   </td></tr>\n",
       "\t<tr><td>X1          </td><td>~~          </td><td>X1          </td><td>0.6348428   </td><td>0.11730537  </td><td> 5.411882   </td><td>6.236594e-08</td><td> 0.40492846 </td><td>0.8647571   </td></tr>\n",
       "\t<tr><td>X2          </td><td>~~          </td><td>X2          </td><td>0.5429432   </td><td>0.12968345  </td><td> 4.186681   </td><td>2.830635e-05</td><td> 0.28876831 </td><td>0.7971181   </td></tr>\n",
       "\t<tr><td>X3          </td><td>~~          </td><td>X3          </td><td>0.6822309   </td><td>0.11095404  </td><td> 6.148770   </td><td>7.808600e-10</td><td> 0.46476496 </td><td>0.8996968   </td></tr>\n",
       "\t<tr><td>X4          </td><td>~~          </td><td>X4          </td><td>0.6940050   </td><td>0.10919761  </td><td> 6.355496   </td><td>2.077556e-10</td><td> 0.47998158 </td><td>0.9080284   </td></tr>\n",
       "\t<tr><td>X5          </td><td>~~          </td><td>X5          </td><td>0.7447443   </td><td>0.10266883  </td><td> 7.253850   </td><td>4.050094e-13</td><td> 0.54351708 </td><td>0.9459715   </td></tr>\n",
       "\t<tr><td>X6          </td><td>~~          </td><td>X6          </td><td>0.6964874   </td><td>0.10889538  </td><td> 6.395931   </td><td>1.595717e-10</td><td> 0.48305636 </td><td>0.9099184   </td></tr>\n",
       "\t<tr><td>X7          </td><td>~~          </td><td>X7          </td><td>0.6219647   </td><td>0.11754985  </td><td> 5.291072   </td><td>1.216015e-07</td><td> 0.39157124 </td><td>0.8523582   </td></tr>\n",
       "\t<tr><td>LK          </td><td>~~          </td><td>LK          </td><td>0.8759766   </td><td>0.08297086  </td><td>10.557643   </td><td>0.000000e+00</td><td> 0.71335675 </td><td>1.0385965   </td></tr>\n",
       "\t<tr><td>KL          </td><td>~~          </td><td>KL          </td><td>1.0000000   </td><td>0.00000000  </td><td>       NA   </td><td>          NA</td><td> 1.00000000 </td><td>1.0000000   </td></tr>\n",
       "\t<tr><td>CM          </td><td>~~          </td><td>CM          </td><td>1.0000000   </td><td>0.00000000  </td><td>       NA   </td><td>          NA</td><td> 1.00000000 </td><td>1.0000000   </td></tr>\n",
       "\t<tr><td>KL          </td><td>~~          </td><td>CM          </td><td>0.5307503   </td><td>0.13054548  </td><td> 4.065635   </td><td>4.790184e-05</td><td> 0.27488586 </td><td>0.7866148   </td></tr>\n",
       "</tbody>\n",
       "</table>\n"
      ],
      "text/latex": [
       "\\begin{tabular}{r|lllllllll}\n",
       " lhs & op & rhs & est.std & se & z & pvalue & ci.lower & ci.upper\\\\\n",
       "\\hline\n",
       "\t LK                  & =\\textasciitilde{} & Y1                  & 0.6529005           & 0.07435747          &  8.780563           & 0.000000e+00        &  0.50716254         & 0.7986385          \\\\\n",
       "\t LK                  & =\\textasciitilde{} & Y2                  & 0.7108509           & 0.07081381          & 10.038309           & 0.000000e+00        &  0.57205838         & 0.8496434          \\\\\n",
       "\t LK                  & =\\textasciitilde{} & Y3                  & 0.8435761           & 0.06584802          & 12.810957           & 0.000000e+00        &  0.71451639         & 0.9726359          \\\\\n",
       "\t KL                  & =\\textasciitilde{} & X1                  & 0.6042824           & 0.09706171          &  6.225755           & 4.792429e-10        &  0.41404496         & 0.7945199          \\\\\n",
       "\t KL                  & =\\textasciitilde{} & X2                  & 0.6760598           & 0.09591123          &  7.048807           & 1.804557e-12        &  0.48807720         & 0.8640423          \\\\\n",
       "\t KL                  & =\\textasciitilde{} & X3                  & 0.5637101           & 0.09841408          &  5.727942           & 1.016564e-08        &  0.37082209         & 0.7565982          \\\\\n",
       "\t CM                  & =\\textasciitilde{} & X4                  & 0.5531682           & 0.09870200          &  5.604427           & 2.089450e-08        &  0.35971580         & 0.7466205          \\\\\n",
       "\t CM                  & =\\textasciitilde{} & X5                  & 0.5052284           & 0.10160636          &  4.972409           & 6.612611e-07        &  0.30608355         & 0.7043732          \\\\\n",
       "\t CM                  & =\\textasciitilde{} & X6                  & 0.5509198           & 0.09883052          &  5.574389           & 2.483998e-08        &  0.35721553         & 0.7446240          \\\\\n",
       "\t CM                  & =\\textasciitilde{} & X7                  & 0.6148457           & 0.09559296          &  6.431915           & 1.260065e-10        &  0.42748699         & 0.8022045          \\\\\n",
       "\t LK                  & \\textasciitilde{}  & KL                  & 0.1886262           & 0.17568119          &  1.073685           & 2.829641e-01        & -0.15570263         & 0.5329550          \\\\\n",
       "\t LK                  & \\textasciitilde{}  & CM                  & 0.2136799           & 0.17584053          &  1.215191           & 2.242932e-01        & -0.13096123         & 0.5583210          \\\\\n",
       "\t Y1                                   & \\textasciitilde{}\\textasciitilde{} & Y1                                   & 0.5737209                            & 0.09709607                           &  5.908797                            & 3.446155e-09                         &  0.38341613                          & 0.7640257                           \\\\\n",
       "\t Y2                                   & \\textasciitilde{}\\textasciitilde{} & Y2                                   & 0.4946910                            & 0.10067612                           &  4.913687                            & 8.937921e-07                         &  0.29736942                          & 0.6920126                           \\\\\n",
       "\t Y3                                   & \\textasciitilde{}\\textasciitilde{} & Y3                                   & 0.2883793                            & 0.11109563                           &  2.595775                            & 9.437773e-03                         &  0.07063587                          & 0.5061227                           \\\\\n",
       "\t X1                                   & \\textasciitilde{}\\textasciitilde{} & X1                                   & 0.6348428                            & 0.11730537                           &  5.411882                            & 6.236594e-08                         &  0.40492846                          & 0.8647571                           \\\\\n",
       "\t X2                                   & \\textasciitilde{}\\textasciitilde{} & X2                                   & 0.5429432                            & 0.12968345                           &  4.186681                            & 2.830635e-05                         &  0.28876831                          & 0.7971181                           \\\\\n",
       "\t X3                                   & \\textasciitilde{}\\textasciitilde{} & X3                                   & 0.6822309                            & 0.11095404                           &  6.148770                            & 7.808600e-10                         &  0.46476496                          & 0.8996968                           \\\\\n",
       "\t X4                                   & \\textasciitilde{}\\textasciitilde{} & X4                                   & 0.6940050                            & 0.10919761                           &  6.355496                            & 2.077556e-10                         &  0.47998158                          & 0.9080284                           \\\\\n",
       "\t X5                                   & \\textasciitilde{}\\textasciitilde{} & X5                                   & 0.7447443                            & 0.10266883                           &  7.253850                            & 4.050094e-13                         &  0.54351708                          & 0.9459715                           \\\\\n",
       "\t X6                                   & \\textasciitilde{}\\textasciitilde{} & X6                                   & 0.6964874                            & 0.10889538                           &  6.395931                            & 1.595717e-10                         &  0.48305636                          & 0.9099184                           \\\\\n",
       "\t X7                                   & \\textasciitilde{}\\textasciitilde{} & X7                                   & 0.6219647                            & 0.11754985                           &  5.291072                            & 1.216015e-07                         &  0.39157124                          & 0.8523582                           \\\\\n",
       "\t LK                                   & \\textasciitilde{}\\textasciitilde{} & LK                                   & 0.8759766                            & 0.08297086                           & 10.557643                            & 0.000000e+00                         &  0.71335675                          & 1.0385965                           \\\\\n",
       "\t KL                                   & \\textasciitilde{}\\textasciitilde{} & KL                                   & 1.0000000                            & 0.00000000                           &        NA                            &           NA                         &  1.00000000                          & 1.0000000                           \\\\\n",
       "\t CM                                   & \\textasciitilde{}\\textasciitilde{} & CM                                   & 1.0000000                            & 0.00000000                           &        NA                            &           NA                         &  1.00000000                          & 1.0000000                           \\\\\n",
       "\t KL                                   & \\textasciitilde{}\\textasciitilde{} & CM                                   & 0.5307503                            & 0.13054548                           &  4.065635                            & 4.790184e-05                         &  0.27488586                          & 0.7866148                           \\\\\n",
       "\\end{tabular}\n"
      ],
      "text/markdown": [
       "\n",
       "lhs | op | rhs | est.std | se | z | pvalue | ci.lower | ci.upper | \n",
       "|---|---|---|---|---|---|---|---|---|---|---|---|---|---|---|---|---|---|---|---|---|---|---|---|---|---|\n",
       "| LK           | =~           | Y1           | 0.6529005    | 0.07435747   |  8.780563    | 0.000000e+00 |  0.50716254  | 0.7986385    | \n",
       "| LK           | =~           | Y2           | 0.7108509    | 0.07081381   | 10.038309    | 0.000000e+00 |  0.57205838  | 0.8496434    | \n",
       "| LK           | =~           | Y3           | 0.8435761    | 0.06584802   | 12.810957    | 0.000000e+00 |  0.71451639  | 0.9726359    | \n",
       "| KL           | =~           | X1           | 0.6042824    | 0.09706171   |  6.225755    | 4.792429e-10 |  0.41404496  | 0.7945199    | \n",
       "| KL           | =~           | X2           | 0.6760598    | 0.09591123   |  7.048807    | 1.804557e-12 |  0.48807720  | 0.8640423    | \n",
       "| KL           | =~           | X3           | 0.5637101    | 0.09841408   |  5.727942    | 1.016564e-08 |  0.37082209  | 0.7565982    | \n",
       "| CM           | =~           | X4           | 0.5531682    | 0.09870200   |  5.604427    | 2.089450e-08 |  0.35971580  | 0.7466205    | \n",
       "| CM           | =~           | X5           | 0.5052284    | 0.10160636   |  4.972409    | 6.612611e-07 |  0.30608355  | 0.7043732    | \n",
       "| CM           | =~           | X6           | 0.5509198    | 0.09883052   |  5.574389    | 2.483998e-08 |  0.35721553  | 0.7446240    | \n",
       "| CM           | =~           | X7           | 0.6148457    | 0.09559296   |  6.431915    | 1.260065e-10 |  0.42748699  | 0.8022045    | \n",
       "| LK           | ~            | KL           | 0.1886262    | 0.17568119   |  1.073685    | 2.829641e-01 | -0.15570263  | 0.5329550    | \n",
       "| LK           | ~            | CM           | 0.2136799    | 0.17584053   |  1.215191    | 2.242932e-01 | -0.13096123  | 0.5583210    | \n",
       "| Y1           | ~~           | Y1           | 0.5737209    | 0.09709607   |  5.908797    | 3.446155e-09 |  0.38341613  | 0.7640257    | \n",
       "| Y2           | ~~           | Y2           | 0.4946910    | 0.10067612   |  4.913687    | 8.937921e-07 |  0.29736942  | 0.6920126    | \n",
       "| Y3           | ~~           | Y3           | 0.2883793    | 0.11109563   |  2.595775    | 9.437773e-03 |  0.07063587  | 0.5061227    | \n",
       "| X1           | ~~           | X1           | 0.6348428    | 0.11730537   |  5.411882    | 6.236594e-08 |  0.40492846  | 0.8647571    | \n",
       "| X2           | ~~           | X2           | 0.5429432    | 0.12968345   |  4.186681    | 2.830635e-05 |  0.28876831  | 0.7971181    | \n",
       "| X3           | ~~           | X3           | 0.6822309    | 0.11095404   |  6.148770    | 7.808600e-10 |  0.46476496  | 0.8996968    | \n",
       "| X4           | ~~           | X4           | 0.6940050    | 0.10919761   |  6.355496    | 2.077556e-10 |  0.47998158  | 0.9080284    | \n",
       "| X5           | ~~           | X5           | 0.7447443    | 0.10266883   |  7.253850    | 4.050094e-13 |  0.54351708  | 0.9459715    | \n",
       "| X6           | ~~           | X6           | 0.6964874    | 0.10889538   |  6.395931    | 1.595717e-10 |  0.48305636  | 0.9099184    | \n",
       "| X7           | ~~           | X7           | 0.6219647    | 0.11754985   |  5.291072    | 1.216015e-07 |  0.39157124  | 0.8523582    | \n",
       "| LK           | ~~           | LK           | 0.8759766    | 0.08297086   | 10.557643    | 0.000000e+00 |  0.71335675  | 1.0385965    | \n",
       "| KL           | ~~           | KL           | 1.0000000    | 0.00000000   |        NA    |           NA |  1.00000000  | 1.0000000    | \n",
       "| CM           | ~~           | CM           | 1.0000000    | 0.00000000   |        NA    |           NA |  1.00000000  | 1.0000000    | \n",
       "| KL           | ~~           | CM           | 0.5307503    | 0.13054548   |  4.065635    | 4.790184e-05 |  0.27488586  | 0.7866148    | \n",
       "\n",
       "\n"
      ],
      "text/plain": [
       "   lhs op rhs est.std   se         z         pvalue       ci.lower    ci.upper \n",
       "1  LK  =~ Y1  0.6529005 0.07435747  8.780563 0.000000e+00  0.50716254 0.7986385\n",
       "2  LK  =~ Y2  0.7108509 0.07081381 10.038309 0.000000e+00  0.57205838 0.8496434\n",
       "3  LK  =~ Y3  0.8435761 0.06584802 12.810957 0.000000e+00  0.71451639 0.9726359\n",
       "4  KL  =~ X1  0.6042824 0.09706171  6.225755 4.792429e-10  0.41404496 0.7945199\n",
       "5  KL  =~ X2  0.6760598 0.09591123  7.048807 1.804557e-12  0.48807720 0.8640423\n",
       "6  KL  =~ X3  0.5637101 0.09841408  5.727942 1.016564e-08  0.37082209 0.7565982\n",
       "7  CM  =~ X4  0.5531682 0.09870200  5.604427 2.089450e-08  0.35971580 0.7466205\n",
       "8  CM  =~ X5  0.5052284 0.10160636  4.972409 6.612611e-07  0.30608355 0.7043732\n",
       "9  CM  =~ X6  0.5509198 0.09883052  5.574389 2.483998e-08  0.35721553 0.7446240\n",
       "10 CM  =~ X7  0.6148457 0.09559296  6.431915 1.260065e-10  0.42748699 0.8022045\n",
       "11 LK  ~  KL  0.1886262 0.17568119  1.073685 2.829641e-01 -0.15570263 0.5329550\n",
       "12 LK  ~  CM  0.2136799 0.17584053  1.215191 2.242932e-01 -0.13096123 0.5583210\n",
       "13 Y1  ~~ Y1  0.5737209 0.09709607  5.908797 3.446155e-09  0.38341613 0.7640257\n",
       "14 Y2  ~~ Y2  0.4946910 0.10067612  4.913687 8.937921e-07  0.29736942 0.6920126\n",
       "15 Y3  ~~ Y3  0.2883793 0.11109563  2.595775 9.437773e-03  0.07063587 0.5061227\n",
       "16 X1  ~~ X1  0.6348428 0.11730537  5.411882 6.236594e-08  0.40492846 0.8647571\n",
       "17 X2  ~~ X2  0.5429432 0.12968345  4.186681 2.830635e-05  0.28876831 0.7971181\n",
       "18 X3  ~~ X3  0.6822309 0.11095404  6.148770 7.808600e-10  0.46476496 0.8996968\n",
       "19 X4  ~~ X4  0.6940050 0.10919761  6.355496 2.077556e-10  0.47998158 0.9080284\n",
       "20 X5  ~~ X5  0.7447443 0.10266883  7.253850 4.050094e-13  0.54351708 0.9459715\n",
       "21 X6  ~~ X6  0.6964874 0.10889538  6.395931 1.595717e-10  0.48305636 0.9099184\n",
       "22 X7  ~~ X7  0.6219647 0.11754985  5.291072 1.216015e-07  0.39157124 0.8523582\n",
       "23 LK  ~~ LK  0.8759766 0.08297086 10.557643 0.000000e+00  0.71335675 1.0385965\n",
       "24 KL  ~~ KL  1.0000000 0.00000000        NA           NA  1.00000000 1.0000000\n",
       "25 CM  ~~ CM  1.0000000 0.00000000        NA           NA  1.00000000 1.0000000\n",
       "26 KL  ~~ CM  0.5307503 0.13054548  4.065635 4.790184e-05  0.27488586 0.7866148"
      ]
     },
     "metadata": {},
     "output_type": "display_data"
    }
   ],
   "source": [
    "standardizedSolution(fit)  #Valid"
   ]
  },
  {
   "cell_type": "code",
   "execution_count": 21,
   "metadata": {},
   "outputs": [
    {
     "data": {
      "text/html": [
       "<table>\n",
       "<thead><tr><th></th><th scope=col>LK</th><th scope=col>KL</th><th scope=col>CM</th><th scope=col>total</th></tr></thead>\n",
       "<tbody>\n",
       "\t<tr><th scope=row>alpha</th><td>0.7792411</td><td>0.6260475</td><td>0.6378001</td><td>0.7265839</td></tr>\n",
       "\t<tr><th scope=row>omega</th><td>0.7848801</td><td>0.6342130</td><td>0.6390002</td><td>0.7884859</td></tr>\n",
       "\t<tr><th scope=row>omega2</th><td>0.7848801</td><td>0.6342130</td><td>0.6390002</td><td>0.7884859</td></tr>\n",
       "\t<tr><th scope=row>omega3</th><td>0.7835964</td><td>0.6396336</td><td>0.6394476</td><td>0.7848612</td></tr>\n",
       "\t<tr><th scope=row>avevar</th><td>0.5530376</td><td>0.3668191</td><td>0.3074812</td><td>0.3916290</td></tr>\n",
       "</tbody>\n",
       "</table>\n"
      ],
      "text/latex": [
       "\\begin{tabular}{r|llll}\n",
       "  & LK & KL & CM & total\\\\\n",
       "\\hline\n",
       "\talpha & 0.7792411 & 0.6260475 & 0.6378001 & 0.7265839\\\\\n",
       "\tomega & 0.7848801 & 0.6342130 & 0.6390002 & 0.7884859\\\\\n",
       "\tomega2 & 0.7848801 & 0.6342130 & 0.6390002 & 0.7884859\\\\\n",
       "\tomega3 & 0.7835964 & 0.6396336 & 0.6394476 & 0.7848612\\\\\n",
       "\tavevar & 0.5530376 & 0.3668191 & 0.3074812 & 0.3916290\\\\\n",
       "\\end{tabular}\n"
      ],
      "text/markdown": [
       "\n",
       "| <!--/--> | LK | KL | CM | total | \n",
       "|---|---|---|---|---|\n",
       "| alpha | 0.7792411 | 0.6260475 | 0.6378001 | 0.7265839 | \n",
       "| omega | 0.7848801 | 0.6342130 | 0.6390002 | 0.7884859 | \n",
       "| omega2 | 0.7848801 | 0.6342130 | 0.6390002 | 0.7884859 | \n",
       "| omega3 | 0.7835964 | 0.6396336 | 0.6394476 | 0.7848612 | \n",
       "| avevar | 0.5530376 | 0.3668191 | 0.3074812 | 0.3916290 | \n",
       "\n",
       "\n"
      ],
      "text/plain": [
       "       LK        KL        CM        total    \n",
       "alpha  0.7792411 0.6260475 0.6378001 0.7265839\n",
       "omega  0.7848801 0.6342130 0.6390002 0.7884859\n",
       "omega2 0.7848801 0.6342130 0.6390002 0.7884859\n",
       "omega3 0.7835964 0.6396336 0.6394476 0.7848612\n",
       "avevar 0.5530376 0.3668191 0.3074812 0.3916290"
      ]
     },
     "metadata": {},
     "output_type": "display_data"
    }
   ],
   "source": [
    "reliability(fit) #reliabel"
   ]
  },
  {
   "cell_type": "code",
   "execution_count": 22,
   "metadata": {},
   "outputs": [
    {
     "data": {
      "text/html": [
       "<table>\n",
       "<thead><tr><th scope=col>lhs</th><th scope=col>op</th><th scope=col>rhs</th><th scope=col>est</th><th scope=col>se</th><th scope=col>z</th><th scope=col>pvalue</th><th scope=col>ci.lower</th><th scope=col>ci.upper</th></tr></thead>\n",
       "<tbody>\n",
       "\t<tr><td>LK          </td><td>=~          </td><td>Y1          </td><td>1.0000000   </td><td>0.00000000  </td><td>      NA    </td><td>          NA</td><td> 1.00000000 </td><td>1.0000000   </td></tr>\n",
       "\t<tr><td>LK          </td><td>=~          </td><td>Y2          </td><td>1.0796128   </td><td>0.19397533  </td><td>5.565722    </td><td>2.610690e-08</td><td> 0.69942813 </td><td>1.4597975   </td></tr>\n",
       "\t<tr><td>LK          </td><td>=~          </td><td>Y3          </td><td>1.3521800   </td><td>0.24419812  </td><td>5.537225    </td><td>3.073012e-08</td><td> 0.87356047 </td><td>1.8307995   </td></tr>\n",
       "\t<tr><td>KL          </td><td>=~          </td><td>X1          </td><td>1.0000000   </td><td>0.00000000  </td><td>      NA    </td><td>          NA</td><td> 1.00000000 </td><td>1.0000000   </td></tr>\n",
       "\t<tr><td>KL          </td><td>=~          </td><td>X2          </td><td>0.9800343   </td><td>0.25649800  </td><td>3.820826    </td><td>1.330052e-04</td><td> 0.47730749 </td><td>1.4827612   </td></tr>\n",
       "\t<tr><td>KL          </td><td>=~          </td><td>X3          </td><td>1.0949933   </td><td>0.29708767  </td><td>3.685758    </td><td>2.280227e-04</td><td> 0.51271219 </td><td>1.6772744   </td></tr>\n",
       "\t<tr><td>CM          </td><td>=~          </td><td>X4          </td><td>1.0000000   </td><td>0.00000000  </td><td>      NA    </td><td>          NA</td><td> 1.00000000 </td><td>1.0000000   </td></tr>\n",
       "\t<tr><td>CM          </td><td>=~          </td><td>X5          </td><td>0.8921182   </td><td>0.26871319  </td><td>3.319964    </td><td>9.002903e-04</td><td> 0.36544997 </td><td>1.4187863   </td></tr>\n",
       "\t<tr><td>CM          </td><td>=~          </td><td>X6          </td><td>0.8717233   </td><td>0.25051829  </td><td>3.479679    </td><td>5.020146e-04</td><td> 0.38071644 </td><td>1.3627301   </td></tr>\n",
       "\t<tr><td>CM          </td><td>=~          </td><td>X7          </td><td>0.9755787   </td><td>0.26828756  </td><td>3.636317    </td><td>2.765637e-04</td><td> 0.44974473 </td><td>1.5014127   </td></tr>\n",
       "\t<tr><td>LK          </td><td>~           </td><td>KL          </td><td>0.1791373   </td><td>0.17304198  </td><td>1.035224    </td><td>3.005642e-01</td><td>-0.16001878 </td><td>0.5182933   </td></tr>\n",
       "\t<tr><td>LK          </td><td>~           </td><td>CM          </td><td>0.2172351   </td><td>0.18820441  </td><td>1.154251    </td><td>2.483973e-01</td><td>-0.15163875 </td><td>0.5861090   </td></tr>\n",
       "\t<tr><td>Y1          </td><td>~~          </td><td>Y1          </td><td>0.5487068   </td><td>0.09752596  </td><td>5.626264    </td><td>1.841547e-08</td><td> 0.35755940 </td><td>0.7398541   </td></tr>\n",
       "\t<tr><td>Y2          </td><td>~~          </td><td>Y2          </td><td>0.4652075   </td><td>0.09443281  </td><td>4.926333    </td><td>8.378718e-07</td><td> 0.28012256 </td><td>0.6502924   </td></tr>\n",
       "\t<tr><td>Y3          </td><td>~~          </td><td>Y3          </td><td>0.3020774   </td><td>0.11300523  </td><td>2.673127    </td><td>7.514771e-03</td><td> 0.08059119 </td><td>0.5235635   </td></tr>\n",
       "\t<tr><td>X1          </td><td>~~          </td><td>X1          </td><td>0.7858722   </td><td>0.15626186  </td><td>5.029201    </td><td>4.925286e-07</td><td> 0.47960463 </td><td>1.0921398   </td></tr>\n",
       "\t<tr><td>X2          </td><td>~~          </td><td>X2          </td><td>0.5157420   </td><td>0.12502711  </td><td>4.125041    </td><td>3.706685e-05</td><td> 0.27069335 </td><td>0.7607906   </td></tr>\n",
       "\t<tr><td>X3          </td><td>~~          </td><td>X3          </td><td>1.1636123   </td><td>0.21373470  </td><td>5.444190    </td><td>5.204173e-08</td><td> 0.74469996 </td><td>1.5825246   </td></tr>\n",
       "\t<tr><td>X4          </td><td>~~          </td><td>X4          </td><td>0.8946415   </td><td>0.16132691  </td><td>5.545520    </td><td>2.930825e-08</td><td> 0.57844659 </td><td>1.2108364   </td></tr>\n",
       "\t<tr><td>X5          </td><td>~~          </td><td>X5          </td><td>0.9159617   </td><td>0.15542916  </td><td>5.893114    </td><td>3.789853e-09</td><td> 0.61132617 </td><td>1.2205973   </td></tr>\n",
       "\t<tr><td>X6          </td><td>~~          </td><td>X6          </td><td>0.6878514   </td><td>0.12363089  </td><td>5.563750    </td><td>2.640378e-08</td><td> 0.44553930 </td><td>0.9301635   </td></tr>\n",
       "\t<tr><td>X7          </td><td>~~          </td><td>X7          </td><td>0.6176733   </td><td>0.12445571  </td><td>4.962997    </td><td>6.941369e-07</td><td> 0.37374461 </td><td>0.8616020   </td></tr>\n",
       "\t<tr><td>LK          </td><td>~~          </td><td>LK          </td><td>0.3571299   </td><td>0.11204672  </td><td>3.187330    </td><td>1.435928e-03</td><td> 0.13752234 </td><td>0.5767374   </td></tr>\n",
       "\t<tr><td>KL          </td><td>~~          </td><td>KL          </td><td>0.4520284   </td><td>0.17424672  </td><td>2.594186    </td><td>9.481522e-03</td><td> 0.11051108 </td><td>0.7935457   </td></tr>\n",
       "\t<tr><td>CM          </td><td>~~          </td><td>CM          </td><td>0.3944581   </td><td>0.16506540  </td><td>2.389708    </td><td>1.686179e-02</td><td> 0.07093581 </td><td>0.7179803   </td></tr>\n",
       "\t<tr><td>KL          </td><td>~~          </td><td>CM          </td><td>0.2241163   </td><td>0.08728923  </td><td>2.567514    </td><td>1.024306e-02</td><td> 0.05303259 </td><td>0.3952001   </td></tr>\n",
       "</tbody>\n",
       "</table>\n"
      ],
      "text/latex": [
       "\\begin{tabular}{r|lllllllll}\n",
       " lhs & op & rhs & est & se & z & pvalue & ci.lower & ci.upper\\\\\n",
       "\\hline\n",
       "\t LK                  & =\\textasciitilde{} & Y1                  & 1.0000000           & 0.00000000          &       NA            &           NA        &  1.00000000         & 1.0000000          \\\\\n",
       "\t LK                  & =\\textasciitilde{} & Y2                  & 1.0796128           & 0.19397533          & 5.565722            & 2.610690e-08        &  0.69942813         & 1.4597975          \\\\\n",
       "\t LK                  & =\\textasciitilde{} & Y3                  & 1.3521800           & 0.24419812          & 5.537225            & 3.073012e-08        &  0.87356047         & 1.8307995          \\\\\n",
       "\t KL                  & =\\textasciitilde{} & X1                  & 1.0000000           & 0.00000000          &       NA            &           NA        &  1.00000000         & 1.0000000          \\\\\n",
       "\t KL                  & =\\textasciitilde{} & X2                  & 0.9800343           & 0.25649800          & 3.820826            & 1.330052e-04        &  0.47730749         & 1.4827612          \\\\\n",
       "\t KL                  & =\\textasciitilde{} & X3                  & 1.0949933           & 0.29708767          & 3.685758            & 2.280227e-04        &  0.51271219         & 1.6772744          \\\\\n",
       "\t CM                  & =\\textasciitilde{} & X4                  & 1.0000000           & 0.00000000          &       NA            &           NA        &  1.00000000         & 1.0000000          \\\\\n",
       "\t CM                  & =\\textasciitilde{} & X5                  & 0.8921182           & 0.26871319          & 3.319964            & 9.002903e-04        &  0.36544997         & 1.4187863          \\\\\n",
       "\t CM                  & =\\textasciitilde{} & X6                  & 0.8717233           & 0.25051829          & 3.479679            & 5.020146e-04        &  0.38071644         & 1.3627301          \\\\\n",
       "\t CM                  & =\\textasciitilde{} & X7                  & 0.9755787           & 0.26828756          & 3.636317            & 2.765637e-04        &  0.44974473         & 1.5014127          \\\\\n",
       "\t LK                  & \\textasciitilde{}  & KL                  & 0.1791373           & 0.17304198          & 1.035224            & 3.005642e-01        & -0.16001878         & 0.5182933          \\\\\n",
       "\t LK                  & \\textasciitilde{}  & CM                  & 0.2172351           & 0.18820441          & 1.154251            & 2.483973e-01        & -0.15163875         & 0.5861090          \\\\\n",
       "\t Y1                                   & \\textasciitilde{}\\textasciitilde{} & Y1                                   & 0.5487068                            & 0.09752596                           & 5.626264                             & 1.841547e-08                         &  0.35755940                          & 0.7398541                           \\\\\n",
       "\t Y2                                   & \\textasciitilde{}\\textasciitilde{} & Y2                                   & 0.4652075                            & 0.09443281                           & 4.926333                             & 8.378718e-07                         &  0.28012256                          & 0.6502924                           \\\\\n",
       "\t Y3                                   & \\textasciitilde{}\\textasciitilde{} & Y3                                   & 0.3020774                            & 0.11300523                           & 2.673127                             & 7.514771e-03                         &  0.08059119                          & 0.5235635                           \\\\\n",
       "\t X1                                   & \\textasciitilde{}\\textasciitilde{} & X1                                   & 0.7858722                            & 0.15626186                           & 5.029201                             & 4.925286e-07                         &  0.47960463                          & 1.0921398                           \\\\\n",
       "\t X2                                   & \\textasciitilde{}\\textasciitilde{} & X2                                   & 0.5157420                            & 0.12502711                           & 4.125041                             & 3.706685e-05                         &  0.27069335                          & 0.7607906                           \\\\\n",
       "\t X3                                   & \\textasciitilde{}\\textasciitilde{} & X3                                   & 1.1636123                            & 0.21373470                           & 5.444190                             & 5.204173e-08                         &  0.74469996                          & 1.5825246                           \\\\\n",
       "\t X4                                   & \\textasciitilde{}\\textasciitilde{} & X4                                   & 0.8946415                            & 0.16132691                           & 5.545520                             & 2.930825e-08                         &  0.57844659                          & 1.2108364                           \\\\\n",
       "\t X5                                   & \\textasciitilde{}\\textasciitilde{} & X5                                   & 0.9159617                            & 0.15542916                           & 5.893114                             & 3.789853e-09                         &  0.61132617                          & 1.2205973                           \\\\\n",
       "\t X6                                   & \\textasciitilde{}\\textasciitilde{} & X6                                   & 0.6878514                            & 0.12363089                           & 5.563750                             & 2.640378e-08                         &  0.44553930                          & 0.9301635                           \\\\\n",
       "\t X7                                   & \\textasciitilde{}\\textasciitilde{} & X7                                   & 0.6176733                            & 0.12445571                           & 4.962997                             & 6.941369e-07                         &  0.37374461                          & 0.8616020                           \\\\\n",
       "\t LK                                   & \\textasciitilde{}\\textasciitilde{} & LK                                   & 0.3571299                            & 0.11204672                           & 3.187330                             & 1.435928e-03                         &  0.13752234                          & 0.5767374                           \\\\\n",
       "\t KL                                   & \\textasciitilde{}\\textasciitilde{} & KL                                   & 0.4520284                            & 0.17424672                           & 2.594186                             & 9.481522e-03                         &  0.11051108                          & 0.7935457                           \\\\\n",
       "\t CM                                   & \\textasciitilde{}\\textasciitilde{} & CM                                   & 0.3944581                            & 0.16506540                           & 2.389708                             & 1.686179e-02                         &  0.07093581                          & 0.7179803                           \\\\\n",
       "\t KL                                   & \\textasciitilde{}\\textasciitilde{} & CM                                   & 0.2241163                            & 0.08728923                           & 2.567514                             & 1.024306e-02                         &  0.05303259                          & 0.3952001                           \\\\\n",
       "\\end{tabular}\n"
      ],
      "text/markdown": [
       "\n",
       "lhs | op | rhs | est | se | z | pvalue | ci.lower | ci.upper | \n",
       "|---|---|---|---|---|---|---|---|---|---|---|---|---|---|---|---|---|---|---|---|---|---|---|---|---|---|\n",
       "| LK           | =~           | Y1           | 1.0000000    | 0.00000000   |       NA     |           NA |  1.00000000  | 1.0000000    | \n",
       "| LK           | =~           | Y2           | 1.0796128    | 0.19397533   | 5.565722     | 2.610690e-08 |  0.69942813  | 1.4597975    | \n",
       "| LK           | =~           | Y3           | 1.3521800    | 0.24419812   | 5.537225     | 3.073012e-08 |  0.87356047  | 1.8307995    | \n",
       "| KL           | =~           | X1           | 1.0000000    | 0.00000000   |       NA     |           NA |  1.00000000  | 1.0000000    | \n",
       "| KL           | =~           | X2           | 0.9800343    | 0.25649800   | 3.820826     | 1.330052e-04 |  0.47730749  | 1.4827612    | \n",
       "| KL           | =~           | X3           | 1.0949933    | 0.29708767   | 3.685758     | 2.280227e-04 |  0.51271219  | 1.6772744    | \n",
       "| CM           | =~           | X4           | 1.0000000    | 0.00000000   |       NA     |           NA |  1.00000000  | 1.0000000    | \n",
       "| CM           | =~           | X5           | 0.8921182    | 0.26871319   | 3.319964     | 9.002903e-04 |  0.36544997  | 1.4187863    | \n",
       "| CM           | =~           | X6           | 0.8717233    | 0.25051829   | 3.479679     | 5.020146e-04 |  0.38071644  | 1.3627301    | \n",
       "| CM           | =~           | X7           | 0.9755787    | 0.26828756   | 3.636317     | 2.765637e-04 |  0.44974473  | 1.5014127    | \n",
       "| LK           | ~            | KL           | 0.1791373    | 0.17304198   | 1.035224     | 3.005642e-01 | -0.16001878  | 0.5182933    | \n",
       "| LK           | ~            | CM           | 0.2172351    | 0.18820441   | 1.154251     | 2.483973e-01 | -0.15163875  | 0.5861090    | \n",
       "| Y1           | ~~           | Y1           | 0.5487068    | 0.09752596   | 5.626264     | 1.841547e-08 |  0.35755940  | 0.7398541    | \n",
       "| Y2           | ~~           | Y2           | 0.4652075    | 0.09443281   | 4.926333     | 8.378718e-07 |  0.28012256  | 0.6502924    | \n",
       "| Y3           | ~~           | Y3           | 0.3020774    | 0.11300523   | 2.673127     | 7.514771e-03 |  0.08059119  | 0.5235635    | \n",
       "| X1           | ~~           | X1           | 0.7858722    | 0.15626186   | 5.029201     | 4.925286e-07 |  0.47960463  | 1.0921398    | \n",
       "| X2           | ~~           | X2           | 0.5157420    | 0.12502711   | 4.125041     | 3.706685e-05 |  0.27069335  | 0.7607906    | \n",
       "| X3           | ~~           | X3           | 1.1636123    | 0.21373470   | 5.444190     | 5.204173e-08 |  0.74469996  | 1.5825246    | \n",
       "| X4           | ~~           | X4           | 0.8946415    | 0.16132691   | 5.545520     | 2.930825e-08 |  0.57844659  | 1.2108364    | \n",
       "| X5           | ~~           | X5           | 0.9159617    | 0.15542916   | 5.893114     | 3.789853e-09 |  0.61132617  | 1.2205973    | \n",
       "| X6           | ~~           | X6           | 0.6878514    | 0.12363089   | 5.563750     | 2.640378e-08 |  0.44553930  | 0.9301635    | \n",
       "| X7           | ~~           | X7           | 0.6176733    | 0.12445571   | 4.962997     | 6.941369e-07 |  0.37374461  | 0.8616020    | \n",
       "| LK           | ~~           | LK           | 0.3571299    | 0.11204672   | 3.187330     | 1.435928e-03 |  0.13752234  | 0.5767374    | \n",
       "| KL           | ~~           | KL           | 0.4520284    | 0.17424672   | 2.594186     | 9.481522e-03 |  0.11051108  | 0.7935457    | \n",
       "| CM           | ~~           | CM           | 0.3944581    | 0.16506540   | 2.389708     | 1.686179e-02 |  0.07093581  | 0.7179803    | \n",
       "| KL           | ~~           | CM           | 0.2241163    | 0.08728923   | 2.567514     | 1.024306e-02 |  0.05303259  | 0.3952001    | \n",
       "\n",
       "\n"
      ],
      "text/plain": [
       "   lhs op rhs est       se         z        pvalue       ci.lower    ci.upper \n",
       "1  LK  =~ Y1  1.0000000 0.00000000       NA           NA  1.00000000 1.0000000\n",
       "2  LK  =~ Y2  1.0796128 0.19397533 5.565722 2.610690e-08  0.69942813 1.4597975\n",
       "3  LK  =~ Y3  1.3521800 0.24419812 5.537225 3.073012e-08  0.87356047 1.8307995\n",
       "4  KL  =~ X1  1.0000000 0.00000000       NA           NA  1.00000000 1.0000000\n",
       "5  KL  =~ X2  0.9800343 0.25649800 3.820826 1.330052e-04  0.47730749 1.4827612\n",
       "6  KL  =~ X3  1.0949933 0.29708767 3.685758 2.280227e-04  0.51271219 1.6772744\n",
       "7  CM  =~ X4  1.0000000 0.00000000       NA           NA  1.00000000 1.0000000\n",
       "8  CM  =~ X5  0.8921182 0.26871319 3.319964 9.002903e-04  0.36544997 1.4187863\n",
       "9  CM  =~ X6  0.8717233 0.25051829 3.479679 5.020146e-04  0.38071644 1.3627301\n",
       "10 CM  =~ X7  0.9755787 0.26828756 3.636317 2.765637e-04  0.44974473 1.5014127\n",
       "11 LK  ~  KL  0.1791373 0.17304198 1.035224 3.005642e-01 -0.16001878 0.5182933\n",
       "12 LK  ~  CM  0.2172351 0.18820441 1.154251 2.483973e-01 -0.15163875 0.5861090\n",
       "13 Y1  ~~ Y1  0.5487068 0.09752596 5.626264 1.841547e-08  0.35755940 0.7398541\n",
       "14 Y2  ~~ Y2  0.4652075 0.09443281 4.926333 8.378718e-07  0.28012256 0.6502924\n",
       "15 Y3  ~~ Y3  0.3020774 0.11300523 2.673127 7.514771e-03  0.08059119 0.5235635\n",
       "16 X1  ~~ X1  0.7858722 0.15626186 5.029201 4.925286e-07  0.47960463 1.0921398\n",
       "17 X2  ~~ X2  0.5157420 0.12502711 4.125041 3.706685e-05  0.27069335 0.7607906\n",
       "18 X3  ~~ X3  1.1636123 0.21373470 5.444190 5.204173e-08  0.74469996 1.5825246\n",
       "19 X4  ~~ X4  0.8946415 0.16132691 5.545520 2.930825e-08  0.57844659 1.2108364\n",
       "20 X5  ~~ X5  0.9159617 0.15542916 5.893114 3.789853e-09  0.61132617 1.2205973\n",
       "21 X6  ~~ X6  0.6878514 0.12363089 5.563750 2.640378e-08  0.44553930 0.9301635\n",
       "22 X7  ~~ X7  0.6176733 0.12445571 4.962997 6.941369e-07  0.37374461 0.8616020\n",
       "23 LK  ~~ LK  0.3571299 0.11204672 3.187330 1.435928e-03  0.13752234 0.5767374\n",
       "24 KL  ~~ KL  0.4520284 0.17424672 2.594186 9.481522e-03  0.11051108 0.7935457\n",
       "25 CM  ~~ CM  0.3944581 0.16506540 2.389708 1.686179e-02  0.07093581 0.7179803\n",
       "26 KL  ~~ CM  0.2241163 0.08728923 2.567514 1.024306e-02  0.05303259 0.3952001"
      ]
     },
     "metadata": {},
     "output_type": "display_data"
    }
   ],
   "source": [
    "parameterEstimates(fit) #parameter"
   ]
  },
  {
   "cell_type": "code",
   "execution_count": 23,
   "metadata": {},
   "outputs": [
    {
     "name": "stdout",
     "output_type": "stream",
     "text": [
      "lavaan 0.6-3 ended normally after 34 iterations\n",
      "\n",
      "  Optimization method                           NLMINB\n",
      "  Number of free parameters                         23\n",
      "\n",
      "  Number of observations                           100\n",
      "\n",
      "  Estimator                                         ML\n",
      "  Model Fit Test Statistic                      34.591\n",
      "  Degrees of freedom                                32\n",
      "  P-value (Chi-square)                           0.345\n",
      "\n",
      "Parameter Estimates:\n",
      "\n",
      "  Information                                 Expected\n",
      "  Information saturated (h1) model          Structured\n",
      "  Standard Errors                             Standard\n",
      "\n",
      "Latent Variables:\n",
      "                   Estimate  Std.Err  z-value  P(>|z|)\n",
      "  LK =~                                               \n",
      "    Y1                1.000                           \n",
      "    Y2                1.080    0.194    5.566    0.000\n",
      "    Y3                1.352    0.244    5.537    0.000\n",
      "  KL =~                                               \n",
      "    X1                1.000                           \n",
      "    X2                0.980    0.256    3.821    0.000\n",
      "    X3                1.095    0.297    3.686    0.000\n",
      "  CM =~                                               \n",
      "    X4                1.000                           \n",
      "    X5                0.892    0.269    3.320    0.001\n",
      "    X6                0.872    0.251    3.480    0.001\n",
      "    X7                0.976    0.268    3.636    0.000\n",
      "\n",
      "Regressions:\n",
      "                   Estimate  Std.Err  z-value  P(>|z|)\n",
      "  LK ~                                                \n",
      "    KL                0.179    0.173    1.035    0.301\n",
      "    CM                0.217    0.188    1.154    0.248\n",
      "\n",
      "Covariances:\n",
      "                   Estimate  Std.Err  z-value  P(>|z|)\n",
      "  KL ~~                                               \n",
      "    CM                0.224    0.087    2.568    0.010\n",
      "\n",
      "Variances:\n",
      "                   Estimate  Std.Err  z-value  P(>|z|)\n",
      "   .Y1                0.549    0.098    5.626    0.000\n",
      "   .Y2                0.465    0.094    4.926    0.000\n",
      "   .Y3                0.302    0.113    2.673    0.008\n",
      "   .X1                0.786    0.156    5.029    0.000\n",
      "   .X2                0.516    0.125    4.125    0.000\n",
      "   .X3                1.164    0.214    5.444    0.000\n",
      "   .X4                0.895    0.161    5.546    0.000\n",
      "   .X5                0.916    0.155    5.893    0.000\n",
      "   .X6                0.688    0.124    5.564    0.000\n",
      "   .X7                0.618    0.124    4.963    0.000\n",
      "   .LK                0.357    0.112    3.187    0.001\n",
      "    KL                0.452    0.174    2.594    0.009\n",
      "    CM                0.394    0.165    2.390    0.017\n",
      "\n",
      "R-Square:\n",
      "                   Estimate\n",
      "    Y1                0.426\n",
      "    Y2                0.505\n",
      "    Y3                0.712\n",
      "    X1                0.365\n",
      "    X2                0.457\n",
      "    X3                0.318\n",
      "    X4                0.306\n",
      "    X5                0.255\n",
      "    X6                0.304\n",
      "    X7                0.378\n",
      "    LK                0.124\n",
      "\n"
     ]
    }
   ],
   "source": [
    "summary(fit,rsquare=TRUE) #summary model (rsquare)"
   ]
  },
  {
   "cell_type": "code",
   "execution_count": 24,
   "metadata": {},
   "outputs": [
    {
     "data": {
      "text/html": [
       "<dl class=dl-horizontal>\n",
       "\t<dt>npar</dt>\n",
       "\t\t<dd>23</dd>\n",
       "\t<dt>fmin</dt>\n",
       "\t\t<dd>0.172956997683396</dd>\n",
       "\t<dt>chisq</dt>\n",
       "\t\t<dd>34.5913995366793</dd>\n",
       "\t<dt>df</dt>\n",
       "\t\t<dd>32</dd>\n",
       "\t<dt>pvalue</dt>\n",
       "\t\t<dd>0.345137406819337</dd>\n",
       "\t<dt>baseline.chisq</dt>\n",
       "\t\t<dd>224.365025386938</dd>\n",
       "\t<dt>baseline.df</dt>\n",
       "\t\t<dd>45</dd>\n",
       "\t<dt>baseline.pvalue</dt>\n",
       "\t\t<dd>0</dd>\n",
       "\t<dt>cfi</dt>\n",
       "\t\t<dd>0.98555236991666</dd>\n",
       "\t<dt>tli</dt>\n",
       "\t\t<dd>0.979683020195304</dd>\n",
       "\t<dt>nnfi</dt>\n",
       "\t\t<dd>0.979683020195304</dd>\n",
       "\t<dt>rfi</dt>\n",
       "\t\t<dd>0.783191896711335</dd>\n",
       "\t<dt>nfi</dt>\n",
       "\t\t<dd>0.845825348772505</dd>\n",
       "\t<dt>pnfi</dt>\n",
       "\t\t<dd>0.601475803571559</dd>\n",
       "\t<dt>ifi</dt>\n",
       "\t\t<dd>0.986528738623527</dd>\n",
       "\t<dt>rni</dt>\n",
       "\t\t<dd>0.98555236991666</dd>\n",
       "\t<dt>logl</dt>\n",
       "\t\t<dd>-1377.94111446495</dd>\n",
       "\t<dt>unrestricted.logl</dt>\n",
       "\t\t<dd>-1360.64541469661</dd>\n",
       "\t<dt>aic</dt>\n",
       "\t\t<dd>2801.88222892991</dd>\n",
       "\t<dt>bic</dt>\n",
       "\t\t<dd>2861.80114320763</dd>\n",
       "\t<dt>ntotal</dt>\n",
       "\t\t<dd>100</dd>\n",
       "\t<dt>bic2</dt>\n",
       "\t\t<dd>2789.16136553744</dd>\n",
       "\t<dt>rmsea</dt>\n",
       "\t\t<dd>0.0284572021676812</dd>\n",
       "\t<dt>rmsea.ci.lower</dt>\n",
       "\t\t<dd>0</dd>\n",
       "\t<dt>rmsea.ci.upper</dt>\n",
       "\t\t<dd>0.08110615897491</dd>\n",
       "\t<dt>rmsea.pvalue</dt>\n",
       "\t\t<dd>0.690515977033746</dd>\n",
       "\t<dt>rmr</dt>\n",
       "\t\t<dd>0.0667471791911016</dd>\n",
       "\t<dt>rmr_nomean</dt>\n",
       "\t\t<dd>0.0667471791911016</dd>\n",
       "\t<dt>srmr</dt>\n",
       "\t\t<dd>0.0589210783432048</dd>\n",
       "\t<dt>srmr_bentler</dt>\n",
       "\t\t<dd>0.0589210783432048</dd>\n",
       "\t<dt>srmr_bentler_nomean</dt>\n",
       "\t\t<dd>0.0589210783432048</dd>\n",
       "\t<dt>crmr</dt>\n",
       "\t\t<dd>0.0651397004029503</dd>\n",
       "\t<dt>crmr_nomean</dt>\n",
       "\t\t<dd>0.0651397004029503</dd>\n",
       "\t<dt>srmr_mplus</dt>\n",
       "\t\t<dd>0.0589210759619779</dd>\n",
       "\t<dt>srmr_mplus_nomean</dt>\n",
       "\t\t<dd>0.0589210759619779</dd>\n",
       "\t<dt>cn_05</dt>\n",
       "\t\t<dd>134.542615040181</dd>\n",
       "\t<dt>cn_01</dt>\n",
       "\t\t<dd>155.62158962236</dd>\n",
       "\t<dt>gfi</dt>\n",
       "\t\t<dd>0.941575020115754</dd>\n",
       "\t<dt>agfi</dt>\n",
       "\t\t<dd>0.899582065823952</dd>\n",
       "\t<dt>pgfi</dt>\n",
       "\t\t<dd>0.547825466249166</dd>\n",
       "\t<dt>mfi</dt>\n",
       "\t\t<dd>0.987126582837447</dd>\n",
       "\t<dt>ecvi</dt>\n",
       "\t\t<dd>0.805913995366793</dd>\n",
       "</dl>\n"
      ],
      "text/latex": [
       "\\begin{description*}\n",
       "\\item[npar] 23\n",
       "\\item[fmin] 0.172956997683396\n",
       "\\item[chisq] 34.5913995366793\n",
       "\\item[df] 32\n",
       "\\item[pvalue] 0.345137406819337\n",
       "\\item[baseline.chisq] 224.365025386938\n",
       "\\item[baseline.df] 45\n",
       "\\item[baseline.pvalue] 0\n",
       "\\item[cfi] 0.98555236991666\n",
       "\\item[tli] 0.979683020195304\n",
       "\\item[nnfi] 0.979683020195304\n",
       "\\item[rfi] 0.783191896711335\n",
       "\\item[nfi] 0.845825348772505\n",
       "\\item[pnfi] 0.601475803571559\n",
       "\\item[ifi] 0.986528738623527\n",
       "\\item[rni] 0.98555236991666\n",
       "\\item[logl] -1377.94111446495\n",
       "\\item[unrestricted.logl] -1360.64541469661\n",
       "\\item[aic] 2801.88222892991\n",
       "\\item[bic] 2861.80114320763\n",
       "\\item[ntotal] 100\n",
       "\\item[bic2] 2789.16136553744\n",
       "\\item[rmsea] 0.0284572021676812\n",
       "\\item[rmsea.ci.lower] 0\n",
       "\\item[rmsea.ci.upper] 0.08110615897491\n",
       "\\item[rmsea.pvalue] 0.690515977033746\n",
       "\\item[rmr] 0.0667471791911016\n",
       "\\item[rmr\\textbackslash{}\\_nomean] 0.0667471791911016\n",
       "\\item[srmr] 0.0589210783432048\n",
       "\\item[srmr\\textbackslash{}\\_bentler] 0.0589210783432048\n",
       "\\item[srmr\\textbackslash{}\\_bentler\\textbackslash{}\\_nomean] 0.0589210783432048\n",
       "\\item[crmr] 0.0651397004029503\n",
       "\\item[crmr\\textbackslash{}\\_nomean] 0.0651397004029503\n",
       "\\item[srmr\\textbackslash{}\\_mplus] 0.0589210759619779\n",
       "\\item[srmr\\textbackslash{}\\_mplus\\textbackslash{}\\_nomean] 0.0589210759619779\n",
       "\\item[cn\\textbackslash{}\\_05] 134.542615040181\n",
       "\\item[cn\\textbackslash{}\\_01] 155.62158962236\n",
       "\\item[gfi] 0.941575020115754\n",
       "\\item[agfi] 0.899582065823952\n",
       "\\item[pgfi] 0.547825466249166\n",
       "\\item[mfi] 0.987126582837447\n",
       "\\item[ecvi] 0.805913995366793\n",
       "\\end{description*}\n"
      ],
      "text/markdown": [
       "npar\n",
       ":   23fmin\n",
       ":   0.172956997683396chisq\n",
       ":   34.5913995366793df\n",
       ":   32pvalue\n",
       ":   0.345137406819337baseline.chisq\n",
       ":   224.365025386938baseline.df\n",
       ":   45baseline.pvalue\n",
       ":   0cfi\n",
       ":   0.98555236991666tli\n",
       ":   0.979683020195304nnfi\n",
       ":   0.979683020195304rfi\n",
       ":   0.783191896711335nfi\n",
       ":   0.845825348772505pnfi\n",
       ":   0.601475803571559ifi\n",
       ":   0.986528738623527rni\n",
       ":   0.98555236991666logl\n",
       ":   -1377.94111446495unrestricted.logl\n",
       ":   -1360.64541469661aic\n",
       ":   2801.88222892991bic\n",
       ":   2861.80114320763ntotal\n",
       ":   100bic2\n",
       ":   2789.16136553744rmsea\n",
       ":   0.0284572021676812rmsea.ci.lower\n",
       ":   0rmsea.ci.upper\n",
       ":   0.08110615897491rmsea.pvalue\n",
       ":   0.690515977033746rmr\n",
       ":   0.0667471791911016rmr_nomean\n",
       ":   0.0667471791911016srmr\n",
       ":   0.0589210783432048srmr_bentler\n",
       ":   0.0589210783432048srmr_bentler_nomean\n",
       ":   0.0589210783432048crmr\n",
       ":   0.0651397004029503crmr_nomean\n",
       ":   0.0651397004029503srmr_mplus\n",
       ":   0.0589210759619779srmr_mplus_nomean\n",
       ":   0.0589210759619779cn_05\n",
       ":   134.542615040181cn_01\n",
       ":   155.62158962236gfi\n",
       ":   0.941575020115754agfi\n",
       ":   0.899582065823952pgfi\n",
       ":   0.547825466249166mfi\n",
       ":   0.987126582837447ecvi\n",
       ":   0.805913995366793\n",
       "\n"
      ],
      "text/plain": [
       "               npar                fmin               chisq                  df \n",
       "             23.000               0.173              34.591              32.000 \n",
       "             pvalue      baseline.chisq         baseline.df     baseline.pvalue \n",
       "              0.345             224.365              45.000               0.000 \n",
       "                cfi                 tli                nnfi                 rfi \n",
       "              0.986               0.980               0.980               0.783 \n",
       "                nfi                pnfi                 ifi                 rni \n",
       "              0.846               0.601               0.987               0.986 \n",
       "               logl   unrestricted.logl                 aic                 bic \n",
       "          -1377.941           -1360.645            2801.882            2861.801 \n",
       "             ntotal                bic2               rmsea      rmsea.ci.lower \n",
       "            100.000            2789.161               0.028               0.000 \n",
       "     rmsea.ci.upper        rmsea.pvalue                 rmr          rmr_nomean \n",
       "              0.081               0.691               0.067               0.067 \n",
       "               srmr        srmr_bentler srmr_bentler_nomean                crmr \n",
       "              0.059               0.059               0.059               0.065 \n",
       "        crmr_nomean          srmr_mplus   srmr_mplus_nomean               cn_05 \n",
       "              0.065               0.059               0.059             134.543 \n",
       "              cn_01                 gfi                agfi                pgfi \n",
       "            155.622               0.942               0.900               0.548 \n",
       "                mfi                ecvi \n",
       "              0.987               0.806 "
      ]
     },
     "metadata": {},
     "output_type": "display_data"
    }
   ],
   "source": [
    "fitMeasures(fit) #goodness of fit model"
   ]
  },
  {
   "cell_type": "markdown",
   "metadata": {},
   "source": [
    "### Normal"
   ]
  },
  {
   "cell_type": "code",
   "execution_count": 2,
   "metadata": {},
   "outputs": [
    {
     "ename": "ERROR",
     "evalue": "Error in mvn(data): could not find function \"mvn\"\n",
     "output_type": "error",
     "traceback": [
      "Error in mvn(data): could not find function \"mvn\"\nTraceback:\n"
     ]
    }
   ],
   "source": [
    "normal=mvn(data)\n",
    "normal$Descriptives"
   ]
  },
  {
   "cell_type": "code",
   "execution_count": 26,
   "metadata": {},
   "outputs": [
    {
     "data": {
      "text/html": [
       "<table>\n",
       "<thead><tr><th scope=col>Test</th><th scope=col>Variable</th><th scope=col>Statistic</th><th scope=col>p value</th><th scope=col>Normality</th></tr></thead>\n",
       "<tbody>\n",
       "\t<tr><td>Shapiro-Wilk                                        </td><td><span style=white-space:pre-wrap>   X1    </span>   </td><td><span style=white-space:pre-wrap>   0.8370</span>   </td><td><span style=white-space:pre-wrap> &lt;0.001  </span></td><td><span style=white-space:pre-wrap>   NO    </span>   </td></tr>\n",
       "\t<tr><td>Shapiro-Wilk                                        </td><td><span style=white-space:pre-wrap>   X2    </span>   </td><td><span style=white-space:pre-wrap>   0.8331</span>   </td><td><span style=white-space:pre-wrap> &lt;0.001  </span></td><td><span style=white-space:pre-wrap>   NO    </span>   </td></tr>\n",
       "\t<tr><td>Shapiro-Wilk                                        </td><td><span style=white-space:pre-wrap>   X3    </span>   </td><td><span style=white-space:pre-wrap>   0.7402</span>   </td><td><span style=white-space:pre-wrap> &lt;0.001  </span></td><td><span style=white-space:pre-wrap>   NO    </span>   </td></tr>\n",
       "\t<tr><td>Shapiro-Wilk                                        </td><td><span style=white-space:pre-wrap>   X4    </span>   </td><td><span style=white-space:pre-wrap>   0.7872</span>   </td><td><span style=white-space:pre-wrap> &lt;0.001  </span></td><td><span style=white-space:pre-wrap>   NO    </span>   </td></tr>\n",
       "\t<tr><td>Shapiro-Wilk                                        </td><td><span style=white-space:pre-wrap>   X5    </span>   </td><td><span style=white-space:pre-wrap>   0.7798</span>   </td><td><span style=white-space:pre-wrap> &lt;0.001  </span></td><td><span style=white-space:pre-wrap>   NO    </span>   </td></tr>\n",
       "\t<tr><td>Shapiro-Wilk                                        </td><td><span style=white-space:pre-wrap>   X6    </span>   </td><td><span style=white-space:pre-wrap>   0.7689</span>   </td><td><span style=white-space:pre-wrap> &lt;0.001  </span></td><td><span style=white-space:pre-wrap>   NO    </span>   </td></tr>\n",
       "\t<tr><td>Shapiro-Wilk                                        </td><td><span style=white-space:pre-wrap>   X7    </span>   </td><td><span style=white-space:pre-wrap>   0.7889</span>   </td><td><span style=white-space:pre-wrap> &lt;0.001  </span></td><td><span style=white-space:pre-wrap>   NO    </span>   </td></tr>\n",
       "\t<tr><td>Shapiro-Wilk                                        </td><td><span style=white-space:pre-wrap>   Y1    </span>   </td><td><span style=white-space:pre-wrap>   0.8133</span>   </td><td><span style=white-space:pre-wrap> &lt;0.001  </span></td><td><span style=white-space:pre-wrap>   NO    </span>   </td></tr>\n",
       "\t<tr><td>Shapiro-Wilk                                        </td><td><span style=white-space:pre-wrap>   Y2    </span>   </td><td><span style=white-space:pre-wrap>   0.7854</span>   </td><td><span style=white-space:pre-wrap> &lt;0.001  </span></td><td><span style=white-space:pre-wrap>   NO    </span>   </td></tr>\n",
       "\t<tr><td>Shapiro-Wilk                                        </td><td><span style=white-space:pre-wrap>   Y3    </span>   </td><td><span style=white-space:pre-wrap>   0.8279</span>   </td><td><span style=white-space:pre-wrap> &lt;0.001  </span></td><td><span style=white-space:pre-wrap>   NO    </span>   </td></tr>\n",
       "</tbody>\n",
       "</table>\n"
      ],
      "text/latex": [
       "\\begin{tabular}{r|lllll}\n",
       " Test & Variable & Statistic & p value & Normality\\\\\n",
       "\\hline\n",
       "\t Shapiro-Wilk &    X1        &    0.8370    &  <0.001      &    NO       \\\\\n",
       "\t Shapiro-Wilk &    X2        &    0.8331    &  <0.001      &    NO       \\\\\n",
       "\t Shapiro-Wilk &    X3        &    0.7402    &  <0.001      &    NO       \\\\\n",
       "\t Shapiro-Wilk &    X4        &    0.7872    &  <0.001      &    NO       \\\\\n",
       "\t Shapiro-Wilk &    X5        &    0.7798    &  <0.001      &    NO       \\\\\n",
       "\t Shapiro-Wilk &    X6        &    0.7689    &  <0.001      &    NO       \\\\\n",
       "\t Shapiro-Wilk &    X7        &    0.7889    &  <0.001      &    NO       \\\\\n",
       "\t Shapiro-Wilk &    Y1        &    0.8133    &  <0.001      &    NO       \\\\\n",
       "\t Shapiro-Wilk &    Y2        &    0.7854    &  <0.001      &    NO       \\\\\n",
       "\t Shapiro-Wilk &    Y3        &    0.8279    &  <0.001      &    NO       \\\\\n",
       "\\end{tabular}\n"
      ],
      "text/markdown": [
       "\n",
       "Test | Variable | Statistic | p value | Normality | \n",
       "|---|---|---|---|---|---|---|---|---|---|\n",
       "| Shapiro-Wilk |    X1        |    0.8370    |  <0.001      |    NO        | \n",
       "| Shapiro-Wilk |    X2        |    0.8331    |  <0.001      |    NO        | \n",
       "| Shapiro-Wilk |    X3        |    0.7402    |  <0.001      |    NO        | \n",
       "| Shapiro-Wilk |    X4        |    0.7872    |  <0.001      |    NO        | \n",
       "| Shapiro-Wilk |    X5        |    0.7798    |  <0.001      |    NO        | \n",
       "| Shapiro-Wilk |    X6        |    0.7689    |  <0.001      |    NO        | \n",
       "| Shapiro-Wilk |    X7        |    0.7889    |  <0.001      |    NO        | \n",
       "| Shapiro-Wilk |    Y1        |    0.8133    |  <0.001      |    NO        | \n",
       "| Shapiro-Wilk |    Y2        |    0.7854    |  <0.001      |    NO        | \n",
       "| Shapiro-Wilk |    Y3        |    0.8279    |  <0.001      |    NO        | \n",
       "\n",
       "\n"
      ],
      "text/plain": [
       "   Test         Variable  Statistic p value   Normality\n",
       "1  Shapiro-Wilk    X1        0.8370  <0.001      NO    \n",
       "2  Shapiro-Wilk    X2        0.8331  <0.001      NO    \n",
       "3  Shapiro-Wilk    X3        0.7402  <0.001      NO    \n",
       "4  Shapiro-Wilk    X4        0.7872  <0.001      NO    \n",
       "5  Shapiro-Wilk    X5        0.7798  <0.001      NO    \n",
       "6  Shapiro-Wilk    X6        0.7689  <0.001      NO    \n",
       "7  Shapiro-Wilk    X7        0.7889  <0.001      NO    \n",
       "8  Shapiro-Wilk    Y1        0.8133  <0.001      NO    \n",
       "9  Shapiro-Wilk    Y2        0.7854  <0.001      NO    \n",
       "10 Shapiro-Wilk    Y3        0.8279  <0.001      NO    "
      ]
     },
     "metadata": {},
     "output_type": "display_data"
    }
   ],
   "source": [
    "normal$univariateNormality"
   ]
  },
  {
   "cell_type": "code",
   "execution_count": 27,
   "metadata": {},
   "outputs": [
    {
     "data": {
      "text/html": [
       "<table>\n",
       "<thead><tr><th scope=col>Test</th><th scope=col>Statistic</th><th scope=col>p value</th><th scope=col>Result</th></tr></thead>\n",
       "<tbody>\n",
       "\t<tr><td>Mardia Skewness     </td><td>548.632242744338    </td><td>4.94462310455895e-30</td><td>NO                  </td></tr>\n",
       "\t<tr><td>Mardia Kurtosis     </td><td>8.17634141891684    </td><td>2.22044604925031e-16</td><td>NO                  </td></tr>\n",
       "\t<tr><td>MVN                 </td><td>NA                  </td><td>NA                  </td><td>NO                  </td></tr>\n",
       "</tbody>\n",
       "</table>\n"
      ],
      "text/latex": [
       "\\begin{tabular}{r|llll}\n",
       " Test & Statistic & p value & Result\\\\\n",
       "\\hline\n",
       "\t Mardia Skewness      & 548.632242744338     & 4.94462310455895e-30 & NO                  \\\\\n",
       "\t Mardia Kurtosis      & 8.17634141891684     & 2.22044604925031e-16 & NO                  \\\\\n",
       "\t MVN                  & NA                   & NA                   & NO                  \\\\\n",
       "\\end{tabular}\n"
      ],
      "text/markdown": [
       "\n",
       "Test | Statistic | p value | Result | \n",
       "|---|---|---|\n",
       "| Mardia Skewness      | 548.632242744338     | 4.94462310455895e-30 | NO                   | \n",
       "| Mardia Kurtosis      | 8.17634141891684     | 2.22044604925031e-16 | NO                   | \n",
       "| MVN                  | NA                   | NA                   | NO                   | \n",
       "\n",
       "\n"
      ],
      "text/plain": [
       "  Test            Statistic        p value              Result\n",
       "1 Mardia Skewness 548.632242744338 4.94462310455895e-30 NO    \n",
       "2 Mardia Kurtosis 8.17634141891684 2.22044604925031e-16 NO    \n",
       "3 MVN             NA               NA                   NO    "
      ]
     },
     "metadata": {},
     "output_type": "display_data"
    }
   ],
   "source": [
    "normal$multivariateNormality"
   ]
  },
  {
   "cell_type": "code",
   "execution_count": null,
   "metadata": {},
   "outputs": [],
   "source": []
  }
 ],
 "metadata": {
  "kernelspec": {
   "display_name": "R 3.4",
   "language": "R",
   "name": "ir34"
  },
  "language_info": {
   "codemirror_mode": "r",
   "file_extension": ".r",
   "mimetype": "text/x-r-source",
   "name": "R",
   "pygments_lexer": "r",
   "version": "3.4.0"
  }
 },
 "nbformat": 4,
 "nbformat_minor": 2
}
